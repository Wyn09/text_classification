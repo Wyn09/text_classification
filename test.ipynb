{
 "cells": [
  {
   "cell_type": "code",
   "execution_count": 112,
   "metadata": {},
   "outputs": [],
   "source": [
    "import pandas as pd\n",
    "import torch \n",
    "import torch.nn as nn\n",
    "import pickle\n",
    "import pandas as pd\n",
    "import matplotlib.pyplot as plt\n",
    "from collections.abc import Iterable, Iterator\n",
    "from torch.utils.data import DataLoader,Dataset\n",
    "from tqdm import tqdm\n",
    "import random\n",
    "import numpy as np\n",
    "from torch.utils.tensorboard import SummaryWriter"
   ]
  },
  {
   "cell_type": "code",
   "execution_count": 113,
   "metadata": {},
   "outputs": [],
   "source": [
    "class CommentsClassifier(nn.Module):\n",
    "    def __init__(self, vocab_szie, embedding_size, rnn_hidden_size, num_labels):\n",
    "        super().__init__()\n",
    "        self.emb = nn.Embedding(vocab_szie, embedding_size, padding_idx=0)\n",
    "        self.rnn = nn.LSTM(input_size=embedding_size, hidden_size=rnn_hidden_size, batch_first=True)\n",
    "        self.classifier = nn.Linear(rnn_hidden_size, num_labels)\n",
    "\n",
    "    def forward(self, X):\n",
    "        out = self.emb(X) # (batch_size, seq_len, embedding_size)\n",
    "        output,_ = self.rnn(out) # (batch_size, seq_len, rnn_hidden_size)\n",
    "        return self.classifier(output[:,-1,:]) # (batch_size, num_labels)\n",
    "        pass"
   ]
  },
  {
   "cell_type": "code",
   "execution_count": 114,
   "metadata": {},
   "outputs": [],
   "source": [
    "class Vocabulary:\n",
    "    def __init__(self, vocab):\n",
    "        self.vocab = vocab\n",
    "\n",
    "    @classmethod\n",
    "    def from_documents(cls, documents):\n",
    "        tokens = set() \n",
    "        for cmt in documents:\n",
    "            tokens.update(list(cmt))\n",
    "        tokens = [\"<PAD>\", \"<UNK>\"] + sorted(list(tokens)) # set是无序的，可以在list之后做排序,保证每次构建词典顺序一致\n",
    "        vocab = {token:i for i, token in enumerate(tokens)} \n",
    "        return cls(vocab)"
   ]
  },
  {
   "cell_type": "code",
   "execution_count": 115,
   "metadata": {},
   "outputs": [],
   "source": [
    "# 数据准备\n",
    "data = pd.read_pickle(r\"F:\\VsConde-Python\\chen\\data\\comments.bin\")\n",
    "comments, labels = data[\"Comment\"].values, data[\"labels\"].values\n",
    "\n",
    "vocab = Vocabulary.from_documents(comments)"
   ]
  },
  {
   "cell_type": "code",
   "execution_count": 116,
   "metadata": {},
   "outputs": [],
   "source": [
    "state = torch.load(\"F:\\VsConde-Python\\chen\\source\\saved_models\\model_objs.bin\", weights_only=False)\n",
    "vocab = state[\"model_vacob\"]"
   ]
  },
  {
   "cell_type": "code",
   "execution_count": 117,
   "metadata": {},
   "outputs": [],
   "source": [
    "batch_size = 64\n",
    "lr = 1e-2\n",
    "device = \"cuda\" if torch.cuda.is_available() else \"cpu\"\n",
    "epoch = 20\n",
    "embedding_size = 128\n",
    "rnn_hidden_size = 256\n",
    "num_labels = 2\n",
    "vocab_size = len(vocab.vocab)"
   ]
  },
  {
   "cell_type": "code",
   "execution_count": 118,
   "metadata": {},
   "outputs": [],
   "source": [
    "model = CommentsClassifier(\n",
    "    vocab_szie=vocab_size, \n",
    "    embedding_size=embedding_size,\n",
    "    rnn_hidden_size=rnn_hidden_size,\n",
    "    num_labels=num_labels\n",
    ")"
   ]
  },
  {
   "cell_type": "code",
   "execution_count": 119,
   "metadata": {},
   "outputs": [
    {
     "data": {
      "text/plain": [
       "<All keys matched successfully>"
      ]
     },
     "execution_count": 119,
     "metadata": {},
     "output_type": "execute_result"
    }
   ],
   "source": [
    "model.load_state_dict(state[\"model_state\"])\n"
   ]
  },
  {
   "cell_type": "code",
   "execution_count": 120,
   "metadata": {},
   "outputs": [
    {
     "name": "stdout",
     "output_type": "stream",
     "text": [
      "CommentsClassifier(\n",
      "  (emb): Embedding(4415, 128, padding_idx=0)\n",
      "  (rnn): LSTM(128, 256, batch_first=True)\n",
      "  (classifier): Linear(in_features=256, out_features=2, bias=True)\n",
      ")\n"
     ]
    }
   ],
   "source": [
    "print(model)"
   ]
  },
  {
   "cell_type": "code",
   "execution_count": 154,
   "metadata": {},
   "outputs": [
    {
     "name": "stdout",
     "output_type": "stream",
     "text": [
      "tensor([[-1.2605,  1.3717]], grad_fn=<AddmmBackward0>)\n"
     ]
    },
    {
     "data": {
      "text/plain": [
       "1"
      ]
     },
     "execution_count": 154,
     "metadata": {},
     "output_type": "execute_result"
    }
   ],
   "source": [
    "X = torch.zeros((125,), dtype=torch.long)\n",
    "input = \"这个电影很好\"\n",
    "input_index = torch.tensor(np.vectorize(vocab.vocab.get)(list(input)), dtype=torch.long)\n",
    "for i in range(len(input_index)):\n",
    "    X[i] = input_index[i]\n",
    "X = X.reshape(1,-1)\n",
    "# 0: negtive, 1: positive\n",
    "pred_prob = model(X)\n",
    "print(pred_prob)\n",
    "pred = pred_prob.argmax(-1)\n",
    "pred.item()"
   ]
  },
  {
   "cell_type": "code",
   "execution_count": 149,
   "metadata": {},
   "outputs": [
    {
     "name": "stdout",
     "output_type": "stream",
     "text": [
      "tensor([[ 1.3652, -1.2173]], grad_fn=<AddmmBackward0>)\n"
     ]
    },
    {
     "data": {
      "text/plain": [
       "0"
      ]
     },
     "execution_count": 149,
     "metadata": {},
     "output_type": "execute_result"
    }
   ],
   "source": [
    "X = torch.zeros((125,), dtype=torch.long)\n",
    "input = \"这个电影很差\"\n",
    "input_index = torch.tensor(np.vectorize(vocab.vocab.get)(list(input)), dtype=torch.long)\n",
    "for i in range(len(input_index)):\n",
    "    X[i] = input_index[i]\n",
    "X = X.reshape(1,-1)\n",
    "# 0: negtive, 1: positive\n",
    "pred_prob = model(X)\n",
    "print(pred_prob)\n",
    "pred = pred_prob.argmax(-1)\n",
    "pred.item()"
   ]
  },
  {
   "cell_type": "code",
   "execution_count": null,
   "metadata": {},
   "outputs": [],
   "source": []
  },
  {
   "cell_type": "code",
   "execution_count": null,
   "metadata": {},
   "outputs": [],
   "source": []
  },
  {
   "cell_type": "code",
   "execution_count": null,
   "metadata": {},
   "outputs": [],
   "source": []
  }
 ],
 "metadata": {
  "kernelspec": {
   "display_name": "d2l",
   "language": "python",
   "name": "python3"
  },
  "language_info": {
   "codemirror_mode": {
    "name": "ipython",
    "version": 3
   },
   "file_extension": ".py",
   "mimetype": "text/x-python",
   "name": "python",
   "nbconvert_exporter": "python",
   "pygments_lexer": "ipython3",
   "version": "3.10.15"
  }
 },
 "nbformat": 4,
 "nbformat_minor": 2
}
